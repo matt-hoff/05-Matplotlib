{
 "cells": [
  {
   "cell_type": "code",
   "execution_count": null,
   "metadata": {},
   "outputs": [],
   "source": [
    "%matplotlib inline\n",
    "# Dependencies and Setup\n",
    "import matplotlib.pyplot as plt\n",
    "import pandas as pd\n",
    "import numpy as np\n",
    "\n",
    "# File to Load (Remember to change these)\n",
    "city_data_to_load = \"data/city_data.csv\"\n",
    "ride_data_to_load = \"data/ride_data.csv\""
   ]
  },
  {
   "cell_type": "code",
   "execution_count": null,
   "metadata": {},
   "outputs": [],
   "source": [
    "# Read the City Data and display summary df\n",
    "city_df = pd.read_csv(city_data_to_load)\n",
    "\n",
    "city_df.head()"
   ]
  },
  {
   "cell_type": "code",
   "execution_count": null,
   "metadata": {},
   "outputs": [],
   "source": [
    "# Create a df to be used for calculations in the final pie chart\n",
    "city_urban_df = city_df.loc[city_df[\"type\"] == \"Urban\", :]\n",
    "\n",
    "city_urban_df.head()"
   ]
  },
  {
   "cell_type": "code",
   "execution_count": null,
   "metadata": {},
   "outputs": [],
   "source": [
    "# Create a df to be used for calculations in the final pie chart\n",
    "city_suburban_df = city_df.loc[city_df[\"type\"] == \"Suburban\", :]\n",
    "\n",
    "city_suburban_df.head()"
   ]
  },
  {
   "cell_type": "code",
   "execution_count": null,
   "metadata": {},
   "outputs": [],
   "source": [
    "# Create a df to be used for calculations in the final pie chart\n",
    "city_rural_df = city_df.loc[city_df[\"type\"] == \"Rural\", :]\n",
    "\n",
    "city_rural_df.head()"
   ]
  },
  {
   "cell_type": "code",
   "execution_count": null,
   "metadata": {},
   "outputs": [],
   "source": [
    "# Read the Ride Data and display summary df\n",
    "ride_df = pd.read_csv(ride_data_to_load)\n",
    "\n",
    "ride_df.head()"
   ]
  },
  {
   "cell_type": "code",
   "execution_count": null,
   "metadata": {},
   "outputs": [],
   "source": [
    "# Combine the data into a single dataset and display summary df\n",
    "combined_pyber_df = pd.merge(city_df, ride_df,\n",
    "                                 how='right', on='city')\n",
    "combined_pyber_df.head()"
   ]
  },
  {
   "cell_type": "code",
   "execution_count": null,
   "metadata": {},
   "outputs": [],
   "source": [
    "# Get a list of how the columns are listed\n",
    "list(combined_pyber_df)"
   ]
  },
  {
   "cell_type": "code",
   "execution_count": null,
   "metadata": {},
   "outputs": [],
   "source": [
    "# Rename the columns\n",
    "combined_pyber_df = combined_pyber_df.rename(\n",
    "    columns={\"city\": \"Ride City\", \"driver_count\": \"Driver Count\", \"type\": \"Geographic Area\", \"date\": \"Ride Date\", \"fare\": \"Fare\", \"ride_id\": \"Ride ID Number\"})"
   ]
  },
  {
   "cell_type": "code",
   "execution_count": null,
   "metadata": {},
   "outputs": [],
   "source": [
    "# Reorganize the columns\n",
    "combined_pyber_df = combined_pyber_df[[\"Ride City\", \"Ride Date\", \"Fare\", \"Ride ID Number\", \"Driver Count\", \"Geographic Area\"]]"
   ]
  },
  {
   "cell_type": "code",
   "execution_count": null,
   "metadata": {
    "scrolled": true
   },
   "outputs": [],
   "source": [
    "# Display summary df\n",
    "combined_pyber_df.head()"
   ]
  },
  {
   "cell_type": "markdown",
   "metadata": {},
   "source": [
    "## Bubble Plot of Ride Sharing Data"
   ]
  },
  {
   "cell_type": "code",
   "execution_count": null,
   "metadata": {},
   "outputs": [],
   "source": [
    "# Get names of Geographic Areas\n",
    "combined_pyber_df[\"Geographic Area\"].unique()"
   ]
  },
  {
   "cell_type": "code",
   "execution_count": null,
   "metadata": {},
   "outputs": [],
   "source": [
    "# Create a df that filters out all Geographic Areas besides Urban\n",
    "urban_df = combined_pyber_df.loc[combined_pyber_df[\"Geographic Area\"] == \"Urban\", :]\n",
    "\n",
    "urban_df.head()"
   ]
  },
  {
   "cell_type": "code",
   "execution_count": null,
   "metadata": {
    "scrolled": true
   },
   "outputs": [],
   "source": [
    "# Take our urban df based on geographic data and make a new df based upon \"Ride City\"\n",
    "urban_ride_city_groupby_df = urban_df.groupby(['Ride City'])\n",
    "urban_ride_city_groupby_df.head()"
   ]
  },
  {
   "cell_type": "code",
   "execution_count": null,
   "metadata": {},
   "outputs": [],
   "source": [
    "# Calculate total urban rides\n",
    "urban_total_rides = urban_ride_city_groupby_df['Ride ID Number'].count()\n",
    "urban_total_rides.head()"
   ]
  },
  {
   "cell_type": "code",
   "execution_count": null,
   "metadata": {},
   "outputs": [],
   "source": [
    "# Calculate total urban fares\n",
    "urban_avg_fare = urban_ride_city_groupby_df['Fare'].mean()\n",
    "urban_avg_fare.head()"
   ]
  },
  {
   "cell_type": "code",
   "execution_count": null,
   "metadata": {},
   "outputs": [],
   "source": [
    "# Calculate total urban drivers\n",
    "urban_total_drivers = urban_ride_city_groupby_df['Driver Count'].mean()\n",
    "urban_total_drivers.head()"
   ]
  },
  {
   "cell_type": "code",
   "execution_count": null,
   "metadata": {},
   "outputs": [],
   "source": [
    "# Create a df that filters out all Geographic Areas besides Suburban\n",
    "suburban_df = combined_pyber_df.loc[combined_pyber_df[\"Geographic Area\"] == \"Suburban\", :]\n",
    "\n",
    "suburban_df.head()"
   ]
  },
  {
   "cell_type": "code",
   "execution_count": null,
   "metadata": {
    "scrolled": true
   },
   "outputs": [],
   "source": [
    "# Take oursuburban df based on geographic data and make a new df based upon \"Ride City\"\n",
    "suburban_ride_city_groupby_df = suburban_df.groupby(['Ride City'])\n",
    "suburban_ride_city_groupby_df.head()"
   ]
  },
  {
   "cell_type": "code",
   "execution_count": null,
   "metadata": {},
   "outputs": [],
   "source": [
    "# Calculate total suburban rides\n",
    "suburban_total_rides = suburban_ride_city_groupby_df['Ride ID Number'].count()\n",
    "suburban_total_rides.head()"
   ]
  },
  {
   "cell_type": "code",
   "execution_count": null,
   "metadata": {},
   "outputs": [],
   "source": [
    "# Calculate total suburban fares\n",
    "suburban_avg_fare = suburban_ride_city_groupby_df['Fare'].mean()\n",
    "suburban_avg_fare.head()"
   ]
  },
  {
   "cell_type": "code",
   "execution_count": null,
   "metadata": {},
   "outputs": [],
   "source": [
    "# Calculate total suburban drivers\n",
    "suburban_total_drivers = suburban_ride_city_groupby_df['Driver Count'].mean()\n",
    "suburban_total_drivers.head()"
   ]
  },
  {
   "cell_type": "code",
   "execution_count": null,
   "metadata": {
    "scrolled": true
   },
   "outputs": [],
   "source": [
    "# Create a df that filters out all Geographic Areas besides Rural\n",
    "rural_df = combined_pyber_df.loc[combined_pyber_df[\"Geographic Area\"] == \"Rural\", :]\n",
    "\n",
    "rural_df.head()"
   ]
  },
  {
   "cell_type": "code",
   "execution_count": null,
   "metadata": {
    "scrolled": true
   },
   "outputs": [],
   "source": [
    "# Take our rural df based on geographic data and make a new df based upon \"Ride City\"\n",
    "rural_ride_city_groupby_df = rural_df.groupby(['Ride City'])\n",
    "rural_ride_city_groupby_df.head()"
   ]
  },
  {
   "cell_type": "code",
   "execution_count": null,
   "metadata": {
    "scrolled": false
   },
   "outputs": [],
   "source": [
    "# Calculate total rural rides\n",
    "rural_total_rides = rural_ride_city_groupby_df['Ride ID Number'].count()\n",
    "rural_total_rides.head()"
   ]
  },
  {
   "cell_type": "code",
   "execution_count": null,
   "metadata": {},
   "outputs": [],
   "source": [
    "# Calculate total rural fares\n",
    "rural_avg_fare = rural_ride_city_groupby_df['Fare'].mean()\n",
    "rural_avg_fare.head()"
   ]
  },
  {
   "cell_type": "code",
   "execution_count": null,
   "metadata": {},
   "outputs": [],
   "source": [
    "# Calculate total rural drivers\n",
    "rural_total_drivers = rural_ride_city_groupby_df['Driver Count'].mean()\n",
    "rural_total_drivers.head()"
   ]
  },
  {
   "cell_type": "code",
   "execution_count": null,
   "metadata": {
    "scrolled": true
   },
   "outputs": [],
   "source": [
    "# Tell matplotlib to create a scatter plot based upon the above data setting the marker type, marker size, fill color, trasparancy and edge color\n",
    "Urban = plt.scatter(urban_total_rides, urban_avg_fare, marker=\"o\", s=urban_total_drivers*10, facecolor='#F29C7A', alpha=.80, edgecolors=\"black\")\n",
    "Suburban = plt.scatter(suburban_total_rides, suburban_avg_fare, marker=\"o\", s=suburban_total_drivers*10, facecolors='#AAD6EC', alpha=.80, edgecolors=\"black\")\n",
    "Rural = plt.scatter(rural_total_rides, rural_avg_fare, marker=\"o\", s=rural_total_drivers*10, facecolors='#FBDE59', alpha=.80, edgecolors=\"black\")\n",
    "\n",
    "# Defining the legends values\n",
    "plt.legend((Urban, Suburban, Rural), ('Urban', 'Suburban', 'Rural'), scatterpoints=1, markerscale=1, loc=\"best\", title=\"City Types\")\n",
    "\n",
    "# Add text for the reason for the varying sizes\n",
    "t1 = \"Note:\"\n",
    "t2 = \"Circle size correlates with driver count per city.\"\n",
    "plt.text(42, 36.5, t1, ha='left')\n",
    "plt.text(42, 35, t2, ha='left')\n",
    "\n",
    "# Create labels for the X and Y axis\n",
    "plt.title(\"Pyber Ride Sharing Data (2016)\")\n",
    "plt.xlabel(\"Total Number of Rides (Per City)\")\n",
    "plt.ylabel(\"Average Fare ($)\")\n",
    "\n",
    "# Formatting grid and tight layout\n",
    "plt.grid()\n",
    "\n",
    "# Save an image of our scatterplot\n",
    "plt.savefig(\"../Images/Pyber_Ride_Sharing_Data.png\")\n",
    "\n",
    "# Display Scatter plot\n",
    "plt.show()"
   ]
  },
  {
   "cell_type": "markdown",
   "metadata": {},
   "source": [
    "## Total Fares by City Type"
   ]
  },
  {
   "cell_type": "code",
   "execution_count": null,
   "metadata": {},
   "outputs": [],
   "source": [
    "# Calculate Type Percents\n",
    "urban_fare_total = urban_df['Fare'].sum()\n",
    "\n",
    "suburban_fare_total = suburban_df['Fare'].sum()\n",
    "\n",
    "rural_fare_total = rural_df['Fare'].sum()\n",
    "\n",
    "total_fares = combined_pyber_df['Fare'].sum()\n",
    "\n",
    "urban_fare_pct = urban_fare_total/total_fares\n",
    "\n",
    "suburban_fare_pct = suburban_fare_total/total_fares\n",
    "\n",
    "rural_fare_pct = rural_fare_total/total_fares"
   ]
  },
  {
   "cell_type": "code",
   "execution_count": null,
   "metadata": {},
   "outputs": [],
   "source": [
    "# Build Pie Chart\n",
    "\n",
    "# Set Pie Chart Variables\n",
    "city_type = [\"Urban\", \"Rural\", \"Suburban\"]\n",
    "fare_pct = [urban_fare_pct, rural_fare_pct, suburban_fare_pct]\n",
    "colors = [\"#E28683\", \"#F9D649\", \"#96CDF6\"]\n",
    "explode = (0.1,0,0)\n",
    "\n",
    "# Tell matplotlib to put the pie chart together\n",
    "plt.pie(fare_pct, explode=explode, labels=city_type, colors=colors, autopct=\"%1.1f%%\", shadow=True, startangle=280)\n",
    "\n",
    "# Create a title for the pie chart\n",
    "plt.title(\"% of Total Fares by City Type\")\n",
    "\n",
    "# Save an image of our chart\n",
    "plt.savefig(\"../Images/Pyber_Total_Fares_by_City_Type.png\")\n",
    "\n",
    "# Show Figure\n",
    "plt.show()"
   ]
  },
  {
   "cell_type": "markdown",
   "metadata": {},
   "source": [
    "## Total Rides by City Type"
   ]
  },
  {
   "cell_type": "code",
   "execution_count": null,
   "metadata": {},
   "outputs": [],
   "source": [
    "# Calculate Ride Percents by City Type\n",
    "urban_rides_total = urban_df['Ride ID Number'].sum()\n",
    "\n",
    "suburban_rides_total = suburban_df['Ride ID Number'].sum()\n",
    "\n",
    "rural_rides_total = rural_df['Ride ID Number'].sum()\n",
    "\n",
    "total_rides = combined_pyber_df['Ride ID Number'].sum()\n",
    "\n",
    "urban_rides_pct = urban_rides_total/total_rides\n",
    "\n",
    "suburban_rides_pct = suburban_rides_total/total_rides\n",
    "\n",
    "rural_rides_pct = rural_rides_total/total_rides"
   ]
  },
  {
   "cell_type": "code",
   "execution_count": null,
   "metadata": {},
   "outputs": [],
   "source": [
    "# Build Pie Chart\n",
    "\n",
    "# Set Pie Chart Variables\n",
    "city_type = [\"Urban\", \"Rural\", \"Suburban\"]\n",
    "ride_pct = [urban_rides_pct, rural_rides_pct, suburban_rides_pct]\n",
    "colors = [\"#E28683\", \"#F9D649\", \"#96CDF6\"]\n",
    "explode = (0.1,0,0)\n",
    "\n",
    "# Tell matplotlib to put the pie chart together\n",
    "plt.pie(ride_pct, explode=explode, labels=city_type, colors=colors, autopct=\"%1.1f%%\", shadow=True, startangle=260)\n",
    "\n",
    "# Create a title for the pie chart\n",
    "plt.title(\"% of Total Rides by City Type\")\n",
    "\n",
    "# Save an image of our chart\n",
    "plt.savefig(\"../Images/Pyber_Total_Rides_by_City_Type.png\")\n",
    "\n",
    "# Show Figure\n",
    "plt.show()"
   ]
  },
  {
   "cell_type": "markdown",
   "metadata": {},
   "source": [
    "## Total Drivers by City Type"
   ]
  },
  {
   "cell_type": "code",
   "execution_count": null,
   "metadata": {},
   "outputs": [],
   "source": [
    "# Calculate Driver Percents by City Type\n",
    "urban_driver_total = city_urban_df['driver_count'].sum()\n",
    "\n",
    "suburban_driver_total = city_suburban_df['driver_count'].sum()\n",
    "\n",
    "rural_driver_total = city_rural_df['driver_count'].sum()\n",
    "\n",
    "total_drivers = city_df['driver_count'].sum()\n",
    "\n",
    "urban_driver_pct = urban_driver_total/total_drivers\n",
    "\n",
    "suburban_driver_pct = suburban_driver_total/total_drivers \n",
    "\n",
    "rural_driver_pct = rural_driver_total/total_drivers"
   ]
  },
  {
   "cell_type": "code",
   "execution_count": null,
   "metadata": {},
   "outputs": [],
   "source": [
    "# Build Pie Chart\n",
    "\n",
    "# Set Pie Chart Variables\n",
    "city_type = [\"Urban\", \"Rural\", \"Suburban\"]\n",
    "driver_pct = [urban_driver_pct, rural_driver_pct, suburban_driver_pct]\n",
    "colors = [\"#E28683\", \"#F9D649\", \"#96CDF6\"]\n",
    "explode = (0.1,0,0)\n",
    "\n",
    "# Tell matplotlib to put the pie chart together\n",
    "plt.pie(driver_pct, explode=explode, labels=city_type, colors=colors, autopct=\"%1.1f%%\", shadow=True, startangle=235)\n",
    "\n",
    "# Create a title for the pie chart\n",
    "plt.title(\"% of Total Drivers by City Type\")\n",
    "\n",
    "# Save an image of our chart\n",
    "plt.savefig(\"../Images/Pyber_Total_Drivers_by_City_Type.png\")\n",
    "\n",
    "# Show Figure\n",
    "plt.show()"
   ]
  },
  {
   "cell_type": "markdown",
   "metadata": {},
   "source": [
    "Three Observable Trends:\n",
    "1. Urban ride fares appear to stay under an average of $30 per trip across all cities.\n",
    "2. It appears that nearly all cities with a City Type of Urban had over 15 rides per city and make up 80 percent of the total Pyber drivers.\n",
    "3. Though Rural and Suburban Pyber drivers make up less than 20 percent of the total drivers these two categories combined make up 37.3 percent of the total income from fares."
   ]
  }
 ],
 "metadata": {
  "anaconda-cloud": {},
  "kernelspec": {
   "display_name": "Python 3",
   "language": "python",
   "name": "python3"
  },
  "language_info": {
   "codemirror_mode": {
    "name": "ipython",
    "version": 3
   },
   "file_extension": ".py",
   "mimetype": "text/x-python",
   "name": "python",
   "nbconvert_exporter": "python",
   "pygments_lexer": "ipython3",
   "version": "3.7.0"
  }
 },
 "nbformat": 4,
 "nbformat_minor": 2
}
